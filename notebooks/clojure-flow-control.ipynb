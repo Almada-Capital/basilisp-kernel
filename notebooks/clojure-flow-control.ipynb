{
 "cells": [
  {
   "cell_type": "markdown",
   "id": "bb2d079a-a22f-4264-b163-9a25dd6a7b03",
   "metadata": {},
   "source": [
    "## Learn Clojure - Flow Control\n",
    "https://clojure.org/guides/learn/flow"
   ]
  },
  {
   "cell_type": "markdown",
   "id": "0c183f97-d468-41cd-a86c-7442d11f464f",
   "metadata": {},
   "source": [
    "### Flow Control Expressions"
   ]
  },
  {
   "cell_type": "markdown",
   "id": "9372c969-eb5a-443f-8dcc-debf9e075853",
   "metadata": {},
   "source": [
    "#### if"
   ]
  },
  {
   "cell_type": "code",
   "execution_count": 1,
   "id": "cda50450-57fd-4d6f-9e14-395584838599",
   "metadata": {},
   "outputs": [
    {
     "data": {
      "text/plain": [
       "'2 is even'"
      ]
     },
     "execution_count": 1,
     "metadata": {},
     "output_type": "execute_result"
    }
   ],
   "source": [
    "(str \"2 is \" (if (even? 2) \"even\" \"odd\"))"
   ]
  },
  {
   "cell_type": "code",
   "execution_count": 2,
   "id": "d5cd9ef1-d92b-4b9c-8a5e-d35659446a13",
   "metadata": {},
   "outputs": [],
   "source": [
    "(if (true? false) \"impossible!\") ;; else is optional"
   ]
  },
  {
   "cell_type": "markdown",
   "id": "753d03d9-1dfa-4a65-b3c3-42fbd8ed1982",
   "metadata": {},
   "source": [
    "#### Truth"
   ]
  },
  {
   "cell_type": "code",
   "execution_count": 3,
   "id": "32154053-95fc-47e2-80a4-908dd0fcceaa",
   "metadata": {},
   "outputs": [
    {
     "data": {
      "text/plain": [
       ":truthy"
      ]
     },
     "execution_count": 3,
     "metadata": {},
     "output_type": "execute_result"
    }
   ],
   "source": [
    "(if true :truthy :falsey)"
   ]
  },
  {
   "cell_type": "code",
   "execution_count": 4,
   "id": "bae69dc8-9488-43cd-9133-d057959babad",
   "metadata": {},
   "outputs": [
    {
     "data": {
      "text/plain": [
       ":truthy"
      ]
     },
     "execution_count": 4,
     "metadata": {},
     "output_type": "execute_result"
    }
   ],
   "source": [
    "(if (object.) :truthy :falsey) ; objects are true"
   ]
  },
  {
   "cell_type": "code",
   "execution_count": 5,
   "id": "e9c65744-b2eb-4444-8da9-60c5b1fef62d",
   "metadata": {},
   "outputs": [
    {
     "data": {
      "text/plain": [
       ":truthy"
      ]
     },
     "execution_count": 5,
     "metadata": {},
     "output_type": "execute_result"
    }
   ],
   "source": [
    "(if [] :truthy :falsey) ; empty collections are true"
   ]
  },
  {
   "cell_type": "code",
   "execution_count": 6,
   "id": "25bca075-b3f1-4516-b336-0a54aee551e3",
   "metadata": {},
   "outputs": [
    {
     "data": {
      "text/plain": [
       ":truthy"
      ]
     },
     "execution_count": 6,
     "metadata": {},
     "output_type": "execute_result"
    }
   ],
   "source": [
    "(if 0 :truthy :falsey) ; zero is true"
   ]
  },
  {
   "cell_type": "code",
   "execution_count": 7,
   "id": "8b48e579-2d40-467f-a7f5-3dfa7c357415",
   "metadata": {},
   "outputs": [
    {
     "data": {
      "text/plain": [
       ":falsey"
      ]
     },
     "execution_count": 7,
     "metadata": {},
     "output_type": "execute_result"
    }
   ],
   "source": [
    "(if false :truthy :falsey)"
   ]
  },
  {
   "cell_type": "code",
   "execution_count": 8,
   "id": "1f8685bc-1bf7-4b5e-81af-3f81f0652c0d",
   "metadata": {},
   "outputs": [
    {
     "data": {
      "text/plain": [
       ":falsey"
      ]
     },
     "execution_count": 8,
     "metadata": {},
     "output_type": "execute_result"
    }
   ],
   "source": [
    "(if nil :truthy :falsey)"
   ]
  },
  {
   "cell_type": "markdown",
   "id": "68821f7b-4d76-435a-a52a-903456a6a6b3",
   "metadata": {},
   "source": [
    "#### if and do"
   ]
  },
  {
   "cell_type": "code",
   "execution_count": 9,
   "id": "a76cff05-d4ca-4462-bde7-ebd018bc2b55",
   "metadata": {},
   "outputs": [
    {
     "name": "stdout",
     "output_type": "stream",
     "text": [
      "odd\n",
      "\n"
     ]
    },
    {
     "data": {
      "text/plain": [
       "False"
      ]
     },
     "execution_count": 9,
     "metadata": {},
     "output_type": "execute_result"
    }
   ],
   "source": [
    "(if (even? 5)\n",
    "  (do (println \"even\")\n",
    "      true)\n",
    "  (do (println \"odd\")\n",
    "      false))"
   ]
  },
  {
   "cell_type": "markdown",
   "id": "6d4a28f5-c46b-413f-8905-812dc1c0eaa3",
   "metadata": {},
   "source": [
    "#### when"
   ]
  },
  {
   "cell_type": "code",
   "execution_count": 10,
   "id": "28a5ce11-06a5-4690-a0b9-02fdcb8f6851",
   "metadata": {},
   "outputs": [],
   "source": [
    "(let [x 1] ;; change to a negative num to throw exception\n",
    "    (when (neg? x)\n",
    "        (throw (RuntimeError. (str \"x must be positive: \" x)))))"
   ]
  },
  {
   "cell_type": "markdown",
   "id": "6857b53f-9730-46cd-9dad-71fb78603142",
   "metadata": {},
   "source": [
    "#### cond"
   ]
  },
  {
   "cell_type": "code",
   "execution_count": 11,
   "id": "35d076f4-d51c-4756-bd0b-daee3fba739b",
   "metadata": {},
   "outputs": [
    {
     "data": {
      "text/plain": [
       "'x is less than 10'"
      ]
     },
     "execution_count": 11,
     "metadata": {},
     "output_type": "execute_result"
    }
   ],
   "source": [
    "(let [x 5]\n",
    "  (cond\n",
    "    (< x 2) \"x is less than 2\"\n",
    "    (< x 10) \"x is less than 10\"))"
   ]
  },
  {
   "cell_type": "markdown",
   "id": "ab77af05-4be1-419b-bb31-b17d9412af98",
   "metadata": {},
   "source": [
    "#### cond and else"
   ]
  },
  {
   "cell_type": "code",
   "execution_count": 12,
   "id": "6763a4b1-d382-4dfb-abbb-d31a85f36ed2",
   "metadata": {},
   "outputs": [
    {
     "data": {
      "text/plain": [
       "'x is greater than or equal to 10'"
      ]
     },
     "execution_count": 12,
     "metadata": {},
     "output_type": "execute_result"
    }
   ],
   "source": [
    "(let [x 11]\n",
    "  (cond\n",
    "    (< x 2)  \"x is less than 2\"\n",
    "    (< x 10) \"x is less than 10\"\n",
    "    :else  \"x is greater than or equal to 10\"))"
   ]
  },
  {
   "cell_type": "markdown",
   "id": "777e4fd0-895a-40b1-b732-7e6117b92cc0",
   "metadata": {},
   "source": [
    "#### case"
   ]
  },
  {
   "cell_type": "code",
   "execution_count": 13,
   "id": "d3be4b71-63a5-4c2b-9e53-9851965808b0",
   "metadata": {},
   "outputs": [
    {
     "data": {
      "text/plain": [
       "#'user/foo"
      ]
     },
     "execution_count": 13,
     "metadata": {},
     "output_type": "execute_result"
    }
   ],
   "source": [
    "(defn foo [x]\n",
    "    (case x\n",
    "        5 \"x is 5\"\n",
    "        10 \"x is 10\"))"
   ]
  },
  {
   "cell_type": "code",
   "execution_count": 14,
   "id": "f8996b49-da00-4d63-b8de-2bcae9e03222",
   "metadata": {},
   "outputs": [
    {
     "data": {
      "text/plain": [
       "'x is 10'"
      ]
     },
     "execution_count": 14,
     "metadata": {},
     "output_type": "execute_result"
    }
   ],
   "source": [
    "(foo 10)"
   ]
  },
  {
   "cell_type": "code",
   "execution_count": 15,
   "id": "699416a9-5085-48f7-ac57-3652db6ee38b",
   "metadata": {},
   "outputs": [
    {
     "data": {
      "text/plain": [
       "<object at 0x1e06453f410>"
      ]
     },
     "execution_count": 15,
     "metadata": {},
     "output_type": "execute_result"
    }
   ],
   "source": [
    "#_(foo 11) ;; => ValueError: No case clause matches 11"
   ]
  },
  {
   "cell_type": "markdown",
   "id": "23a70b79-4f68-450a-97bd-f1d7676edb1a",
   "metadata": {},
   "source": [
    "#### case with else-expression"
   ]
  },
  {
   "cell_type": "code",
   "execution_count": 16,
   "id": "4b301b20-9955-49b0-b673-3452d6f83099",
   "metadata": {},
   "outputs": [
    {
     "data": {
      "text/plain": [
       "#'user/foo"
      ]
     },
     "execution_count": 16,
     "metadata": {},
     "output_type": "execute_result"
    }
   ],
   "source": [
    "(defn foo [x]\n",
    "    (case x\n",
    "        5 \"x is 5\"\n",
    "        10 \"x is 10\"\n",
    "        \"x isn't 5 or 10\"))"
   ]
  },
  {
   "cell_type": "code",
   "execution_count": 17,
   "id": "73477504-f023-4123-b700-0f8ee5e14d84",
   "metadata": {},
   "outputs": [
    {
     "data": {
      "text/plain": [
       "\"x isn't 5 or 10\""
      ]
     },
     "execution_count": 17,
     "metadata": {},
     "output_type": "execute_result"
    }
   ],
   "source": [
    "(foo 11)"
   ]
  },
  {
   "cell_type": "markdown",
   "id": "7b42df7a-9b1b-4e52-95ec-57012941a8a0",
   "metadata": {},
   "source": [
    "### Iteration and Side Effects"
   ]
  },
  {
   "cell_type": "markdown",
   "id": "f54855b1-0d22-491c-87d6-07ce7a9378af",
   "metadata": {},
   "source": [
    "#### dotimes"
   ]
  },
  {
   "cell_type": "code",
   "execution_count": 18,
   "id": "d20ff6c5-3022-4e3c-b801-b6e4b4e531da",
   "metadata": {},
   "outputs": [
    {
     "name": "stdout",
     "output_type": "stream",
     "text": [
      "0\n",
      "1\n",
      "2\n",
      "\n"
     ]
    }
   ],
   "source": [
    "(dotimes [i 3]\n",
    "    (println i))"
   ]
  },
  {
   "cell_type": "markdown",
   "id": "2a090e89-6cd6-419f-a898-e87dc5ac6623",
   "metadata": {},
   "source": [
    "#### doseq"
   ]
  },
  {
   "cell_type": "code",
   "execution_count": 19,
   "id": "aea97718-8f2a-482f-9f6e-264991a229a2",
   "metadata": {},
   "outputs": [
    {
     "name": "stdout",
     "output_type": "stream",
     "text": [
      "0\n",
      "1\n",
      "2\n",
      "\n"
     ]
    }
   ],
   "source": [
    "(doseq [n (range 3)]\n",
    "    (println n))"
   ]
  },
  {
   "cell_type": "markdown",
   "id": "f024b5a2-78be-4e45-97e0-e905cbdcabb3",
   "metadata": {},
   "source": [
    "#### doseq with multiple bindings"
   ]
  },
  {
   "cell_type": "code",
   "execution_count": 20,
   "id": "88ca0761-da8d-40a0-83b1-d14d67e0d624",
   "metadata": {},
   "outputs": [
    {
     "name": "stdout",
     "output_type": "stream",
     "text": [
      "[:a 0]\n",
      "[:a 1]\n",
      "[:a 2]\n",
      "[:b 0]\n",
      "[:b 1]\n",
      "[:b 2]\n",
      "\n"
     ]
    }
   ],
   "source": [
    "(doseq [letter [:a :b]\n",
    "        number (range 3)] ; list of 0, 1, 2\n",
    "    (prn [letter number]))"
   ]
  },
  {
   "cell_type": "markdown",
   "id": "c1b0d09d-3f68-4619-aa60-f8c2a7feeaee",
   "metadata": {},
   "source": [
    "### Clojure's for"
   ]
  },
  {
   "cell_type": "code",
   "execution_count": 21,
   "id": "48699c42-6361-43b8-92ba-35bb5881edb6",
   "metadata": {},
   "outputs": [
    {
     "data": {
      "text/plain": [
       "([:a 0] [:a 1] [:a 2] [:b 0] [:b 1] [:b 2])"
      ]
     },
     "execution_count": 21,
     "metadata": {},
     "output_type": "execute_result"
    }
   ],
   "source": [
    "(for [letter [:a :b]\n",
    "      number (range 3)] ; list of 0, 1, 2\n",
    "    [letter number])"
   ]
  },
  {
   "cell_type": "markdown",
   "id": "47816937-5efa-40f6-854c-50309fb0ec78",
   "metadata": {},
   "source": [
    "### Recursion"
   ]
  },
  {
   "cell_type": "markdown",
   "id": "9d9ab360-0151-49a6-99f2-847a2cbd7c97",
   "metadata": {},
   "source": [
    "#### loop and recur"
   ]
  },
  {
   "cell_type": "code",
   "execution_count": 22,
   "id": "97befb63-bdd4-41c3-ad90-79adca795b01",
   "metadata": {},
   "outputs": [
    {
     "data": {
      "text/plain": [
       "10"
      ]
     },
     "execution_count": 22,
     "metadata": {},
     "output_type": "execute_result"
    }
   ],
   "source": [
    "(loop [i 0]\n",
    "  (if (< i 10)\n",
    "    (recur (inc i))\n",
    "    i))"
   ]
  },
  {
   "cell_type": "markdown",
   "id": "f61399e8-355c-4617-b240-38f3453401f6",
   "metadata": {},
   "source": [
    "### Exceptions"
   ]
  },
  {
   "cell_type": "markdown",
   "id": "a5fe00ec-3363-467f-90ed-32498cf1e87d",
   "metadata": {},
   "source": [
    "#### Exception handling"
   ]
  },
  {
   "cell_type": "code",
   "execution_count": 23,
   "id": "bcb10ea9-207a-4b43-8279-5d335352f817",
   "metadata": {},
   "outputs": [
    {
     "name": "stdout",
     "output_type": "stream",
     "text": [
      "cleanup\n",
      "\n"
     ]
    },
    {
     "data": {
      "text/plain": [
       "Fraction(2, 1)"
      ]
     },
     "execution_count": 23,
     "metadata": {},
     "output_type": "execute_result"
    }
   ],
   "source": [
    "(try\n",
    "  (/ 2 1)\n",
    "  (catch ArithmeticError e\n",
    "    \"divide by zero\")\n",
    "  (finally\n",
    "    (println \"cleanup\")))\n",
    "\n",
    "(/ 2 1)"
   ]
  },
  {
   "cell_type": "markdown",
   "id": "1f2ba079-a4b8-411f-91cc-0492038fafe5",
   "metadata": {},
   "source": [
    "#### Throwing Exceptions"
   ]
  },
  {
   "cell_type": "code",
   "execution_count": 24,
   "id": "06902ddc-ac1c-4beb-ab39-5780896ac2cb",
   "metadata": {},
   "outputs": [
    {
     "data": {
      "text/plain": [
       "\"Exception('something went wrong')\""
      ]
     },
     "execution_count": 24,
     "metadata": {},
     "output_type": "execute_result"
    }
   ],
   "source": [
    "(try\n",
    "  (throw (Exception. \"something went wrong\"))\n",
    "  (catch Exception e (str e)))"
   ]
  },
  {
   "cell_type": "markdown",
   "id": "eb7bb565-7c8d-480d-a7d0-a321e29b0bf3",
   "metadata": {},
   "source": [
    "#### Exception with Clojure data"
   ]
  },
  {
   "cell_type": "code",
   "execution_count": 25,
   "id": "0daa69f5-3c18-407c-af1a-df2c1453912c",
   "metadata": {},
   "outputs": [
    {
     "name": "stdout",
     "output_type": "stream",
     "text": [
      "42\n",
      "\n"
     ]
    }
   ],
   "source": [
    "(try\n",
    "  (throw (ex-info \"There was a problem\" {:detail 42}))\n",
    "  (catch Exception e\n",
    "    (prn (:detail (ex-data e)))))"
   ]
  },
  {
   "cell_type": "code",
   "execution_count": 26,
   "id": "6a3cff25-eaf4-4cd3-86b4-e8a01efad1b3",
   "metadata": {},
   "outputs": [
    {
     "data": {
      "text/plain": [
       "9"
      ]
     },
     "execution_count": 26,
     "metadata": {},
     "output_type": "execute_result"
    }
   ],
   "source": [
    "(let [f (python/open \"new\" ** :mode \"w\") ]\n",
    "  (try\n",
    "    (.write f \"some text\")\n",
    "    (finally\n",
    "      (.close f))))\n",
    "\n",
    ";; Can be written:\n",
    "(with-open [f (python/open \"new\" ** :mode \"w\")]\n",
    "  (.write f \"some text\"))"
   ]
  }
 ],
 "metadata": {
  "kernelspec": {
   "display_name": "Basilisp",
   "language": "clojure",
   "name": "basilisp"
  },
  "language_info": {
   "file_extension": ".lpy",
   "mimetype": "text/x-clojure",
   "name": "clojure"
  }
 },
 "nbformat": 4,
 "nbformat_minor": 5
}
