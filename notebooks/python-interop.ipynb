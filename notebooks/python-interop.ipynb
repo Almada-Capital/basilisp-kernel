{
 "cells": [
  {
   "cell_type": "markdown",
   "id": "24cec1b7-f4c8-4a53-a70f-b8dae962e426",
   "metadata": {},
   "source": [
    "## Python Interop\n",
    "https://basilisp.readthedocs.io/en/latest/pyinterop.html"
   ]
  },
  {
   "cell_type": "markdown",
   "id": "5a33fecd-a4c3-4dba-b639-2e2d58c30da6",
   "metadata": {},
   "source": [
    "### Python builtins"
   ]
  },
  {
   "cell_type": "code",
   "execution_count": 1,
   "id": "245f8361-8aa7-4797-8179-5e9d755e3f2f",
   "metadata": {},
   "outputs": [
    {
     "data": {
      "text/plain": [
       "1"
      ]
     },
     "execution_count": 1,
     "metadata": {},
     "output_type": "execute_result"
    }
   ],
   "source": [
    "(python/abs -1)"
   ]
  },
  {
   "cell_type": "markdown",
   "id": "a4f0de4a-473f-430f-8982-57b1fa890ae1",
   "metadata": {},
   "source": [
    "### Importing modules"
   ]
  },
  {
   "cell_type": "code",
   "execution_count": 2,
   "id": "bb133bf3-4014-41f5-b9c4-6475db6382aa",
   "metadata": {},
   "outputs": [
    {
     "data": {
      "text/plain": [
       "False"
      ]
     },
     "execution_count": 2,
     "metadata": {},
     "output_type": "execute_result"
    }
   ],
   "source": [
    "(import [os.path :as path])\n",
    "(path/exists \"tests.txt\")"
   ]
  },
  {
   "cell_type": "markdown",
   "id": "47f09168-7310-4391-8ce3-455b318b8fca",
   "metadata": {},
   "source": [
    "### Referencing Module Members"
   ]
  },
  {
   "cell_type": "code",
   "execution_count": 3,
   "id": "d0823d69-19e8-412c-94ed-72ac425162a0",
   "metadata": {},
   "outputs": [
    {
     "data": {
      "text/plain": [
       "datetime.datetime(2030, 1, 1, 0, 0)"
      ]
     },
     "execution_count": 3,
     "metadata": {},
     "output_type": "execute_result"
    }
   ],
   "source": [
    "(import datetime)\n",
    ";; fromisoformat is a class method of datetime\n",
    "(datetime.datetime/fromisoformat \"2030-01-01\")"
   ]
  },
  {
   "cell_type": "markdown",
   "id": "1b082632-1052-4936-a2fd-f50cd2aa1469",
   "metadata": {},
   "source": [
    "### Accessing Object Methods and Properties"
   ]
  },
  {
   "cell_type": "code",
   "execution_count": 4,
   "id": "5dae5dcc-30f3-4de6-9abc-c0b35ba08e85",
   "metadata": {},
   "outputs": [
    {
     "data": {
      "text/plain": [
       "'2030-01-01'"
      ]
     },
     "execution_count": 4,
     "metadata": {},
     "output_type": "execute_result"
    }
   ],
   "source": [
    "(def date (datetime.datetime/fromisoformat \"2030-01-01\"))\n",
    "(. date strftime \"%Y-%m-%d\")"
   ]
  },
  {
   "cell_type": "code",
   "execution_count": 5,
   "id": "d037b257-d404-4b52-b03e-d8030f2ae07c",
   "metadata": {},
   "outputs": [
    {
     "data": {
      "text/plain": [
       "'2030-01-01'"
      ]
     },
     "execution_count": 5,
     "metadata": {},
     "output_type": "execute_result"
    }
   ],
   "source": [
    "(.strftime date \"%Y-%m-%d\")"
   ]
  },
  {
   "cell_type": "code",
   "execution_count": 6,
   "id": "3d954ecf-eb94-4437-a6bc-f5582ddf317d",
   "metadata": {},
   "outputs": [
    {
     "data": {
      "text/plain": [
       "2030"
      ]
     },
     "execution_count": 6,
     "metadata": {},
     "output_type": "execute_result"
    }
   ],
   "source": [
    "(.- date year) "
   ]
  },
  {
   "cell_type": "code",
   "execution_count": 7,
   "id": "a0f97754-8b5a-43aa-b2d8-d0e91b7afd90",
   "metadata": {},
   "outputs": [
    {
     "data": {
      "text/plain": [
       "2030"
      ]
     },
     "execution_count": 7,
     "metadata": {},
     "output_type": "execute_result"
    }
   ],
   "source": [
    "(.-year date)"
   ]
  },
  {
   "cell_type": "markdown",
   "id": "1f0995ed-5c48-40ab-8fb3-b155f972e9ff",
   "metadata": {},
   "source": [
    "### Keyword Arguments"
   ]
  },
  {
   "cell_type": "code",
   "execution_count": 8,
   "id": "d39b9bff-494f-4aca-a3de-09ebbc79715d",
   "metadata": {},
   "outputs": [
    {
     "data": {
      "text/plain": [
       "datetime.datetime(2010, 1, 5, 0, 0)"
      ]
     },
     "execution_count": 8,
     "metadata": {},
     "output_type": "execute_result"
    }
   ],
   "source": [
    "(.replace date ** :year 2010 :day 5)"
   ]
  },
  {
   "cell_type": "markdown",
   "id": "12a13a0d-b63c-4042-86ef-0d89ee2b6de6",
   "metadata": {},
   "source": [
    "### Basilisp Functions with Keyword Arguments"
   ]
  },
  {
   "cell_type": "code",
   "execution_count": 9,
   "id": "0c3e5dd9-2ea2-49b6-a077-136b6d75b000",
   "metadata": {},
   "outputs": [
    {
     "data": {
      "text/plain": [
       "30"
      ]
     },
     "execution_count": 9,
     "metadata": {},
     "output_type": "execute_result"
    }
   ],
   "source": [
    ";; :apply strategy (keyword arguments are applied to the fn)\n",
    "(defn ^{:kwargs :apply} area-calculate    \n",
    "    [scale-factor & {:keys [length width] :as kwargs}]\n",
    "        (* scale-factor (* length width)))\n",
    "\n",
    "(area-calculate 2 ** :length 5 :width 3)"
   ]
  },
  {
   "cell_type": "code",
   "execution_count": 10,
   "id": "bf6c46c4-393a-4c8d-b157-bcb4fdef03e2",
   "metadata": {},
   "outputs": [
    {
     "data": {
      "text/plain": [
       "45"
      ]
     },
     "execution_count": 10,
     "metadata": {},
     "output_type": "execute_result"
    }
   ],
   "source": [
    ";; :collect strategy (keyword arguments are passed as a last argument map)\n",
    "(defn ^{:kwargs :collect} area-calculate-2    \n",
    "    [scale-factor {:keys [length width] :as kwargs}]\n",
    "        (* scale-factor (* length width)))\n",
    "\n",
    "(area-calculate-2 3 ** :length 5 :width 3)"
   ]
  },
  {
   "cell_type": "markdown",
   "id": "4b1404c1-442b-4d0b-90c7-b9782463614b",
   "metadata": {},
   "source": [
    "### Type Hinting"
   ]
  },
  {
   "cell_type": "code",
   "execution_count": 11,
   "id": "c86c51a2-5476-4186-9c3a-d3460bdc05eb",
   "metadata": {},
   "outputs": [
    {
     "data": {
      "text/plain": [
       "128"
      ]
     },
     "execution_count": 11,
     "metadata": {},
     "output_type": "execute_result"
    }
   ],
   "source": [
    "(def ^python/str s \"a string\")\n",
    "\n",
    "(defn upper\n",
    "  ^python/str [^python/str s]\n",
    "  (.upper s))\n",
    "\n",
    "(let [^python/int i 64]\n",
    "  (* i 2))"
   ]
  }
 ],
 "metadata": {
  "kernelspec": {
   "display_name": "Basilisp",
   "language": "clojure",
   "name": "basilisp"
  },
  "language_info": {
   "file_extension": ".lpy",
   "mimetype": "text/x-clojure",
   "name": "clojure"
  }
 },
 "nbformat": 4,
 "nbformat_minor": 5
}
